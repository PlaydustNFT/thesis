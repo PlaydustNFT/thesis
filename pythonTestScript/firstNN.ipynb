{
 "cells": [
  {
   "cell_type": "code",
   "execution_count": 1,
   "metadata": {},
   "outputs": [],
   "source": [
    "import pandas as pd\n",
    "import numpy as np\n",
    "import tensorflow as tf\n",
    "\n",
    "\n",
    "SHUFFLE_BUFFER = 500\n",
    "BATCH_SIZE = 10"
   ]
  },
  {
   "cell_type": "markdown",
   "metadata": {},
   "source": [
    "Test giusto per scrivere qualcosa! "
   ]
  },
  {
   "cell_type": "code",
   "execution_count": 2,
   "metadata": {},
   "outputs": [
    {
     "name": "stdout",
     "output_type": "stream",
     "text": [
      "let's try this out!\n"
     ]
    }
   ],
   "source": [
    "'''\n",
    "print(tf.version)\n",
    "print(tf.test.is_gpu_available())\n",
    "print(tf.config.list_physical_devices('GPU'))\n",
    "print(\"Num GPUs Available: \", len(tf.config.list_physical_devices('GPU')))\n",
    "'''\n",
    "\n",
    "print('let\\'s try this out!')\n",
    "df = pd.read_csv('./file/txCollTrendTimeseries.csv')"
   ]
  },
  {
   "cell_type": "code",
   "execution_count": 3,
   "metadata": {},
   "outputs": [],
   "source": [
    "#df = df.drop('Attributes', axis=1)\n",
    "df = df.drop('Unnamed: 0', axis=1)\n"
   ]
  },
  {
   "cell_type": "code",
   "execution_count": 4,
   "metadata": {},
   "outputs": [],
   "source": [
    "#df.head()\n",
    "#df.dtypes\n",
    "target = df.pop('Price')\n",
    "\n"
   ]
  },
  {
   "cell_type": "code",
   "execution_count": 5,
   "metadata": {},
   "outputs": [
    {
     "data": {
      "text/html": [
       "<div>\n",
       "<style scoped>\n",
       "    .dataframe tbody tr th:only-of-type {\n",
       "        vertical-align: middle;\n",
       "    }\n",
       "\n",
       "    .dataframe tbody tr th {\n",
       "        vertical-align: top;\n",
       "    }\n",
       "\n",
       "    .dataframe thead th {\n",
       "        text-align: right;\n",
       "    }\n",
       "</style>\n",
       "<table border=\"1\" class=\"dataframe\">\n",
       "  <thead>\n",
       "    <tr style=\"text-align: right;\">\n",
       "      <th></th>\n",
       "      <th>CollectionTrend</th>\n",
       "      <th>Price-1</th>\n",
       "      <th>Price-2</th>\n",
       "      <th>Price-3</th>\n",
       "      <th>Price-4</th>\n",
       "      <th>Price-5</th>\n",
       "      <th>Price-6</th>\n",
       "      <th>Price-7</th>\n",
       "      <th>Price-8</th>\n",
       "      <th>Price-9</th>\n",
       "      <th>Price-10</th>\n",
       "    </tr>\n",
       "  </thead>\n",
       "  <tbody>\n",
       "    <tr>\n",
       "      <th>0</th>\n",
       "      <td>-1</td>\n",
       "      <td>0</td>\n",
       "      <td>0</td>\n",
       "      <td>0</td>\n",
       "      <td>0</td>\n",
       "      <td>0</td>\n",
       "      <td>0</td>\n",
       "      <td>0</td>\n",
       "      <td>0</td>\n",
       "      <td>0</td>\n",
       "      <td>0</td>\n",
       "    </tr>\n",
       "    <tr>\n",
       "      <th>1</th>\n",
       "      <td>-1</td>\n",
       "      <td>1000000000</td>\n",
       "      <td>0</td>\n",
       "      <td>0</td>\n",
       "      <td>0</td>\n",
       "      <td>0</td>\n",
       "      <td>0</td>\n",
       "      <td>0</td>\n",
       "      <td>0</td>\n",
       "      <td>0</td>\n",
       "      <td>0</td>\n",
       "    </tr>\n",
       "    <tr>\n",
       "      <th>2</th>\n",
       "      <td>-1</td>\n",
       "      <td>1000000000</td>\n",
       "      <td>1000000000</td>\n",
       "      <td>0</td>\n",
       "      <td>0</td>\n",
       "      <td>0</td>\n",
       "      <td>0</td>\n",
       "      <td>0</td>\n",
       "      <td>0</td>\n",
       "      <td>0</td>\n",
       "      <td>0</td>\n",
       "    </tr>\n",
       "    <tr>\n",
       "      <th>3</th>\n",
       "      <td>-1</td>\n",
       "      <td>1230000000</td>\n",
       "      <td>1000000000</td>\n",
       "      <td>1000000000</td>\n",
       "      <td>0</td>\n",
       "      <td>0</td>\n",
       "      <td>0</td>\n",
       "      <td>0</td>\n",
       "      <td>0</td>\n",
       "      <td>0</td>\n",
       "      <td>0</td>\n",
       "    </tr>\n",
       "    <tr>\n",
       "      <th>4</th>\n",
       "      <td>-1</td>\n",
       "      <td>1200000000</td>\n",
       "      <td>1230000000</td>\n",
       "      <td>1000000000</td>\n",
       "      <td>1000000000</td>\n",
       "      <td>0</td>\n",
       "      <td>0</td>\n",
       "      <td>0</td>\n",
       "      <td>0</td>\n",
       "      <td>0</td>\n",
       "      <td>0</td>\n",
       "    </tr>\n",
       "  </tbody>\n",
       "</table>\n",
       "</div>"
      ],
      "text/plain": [
       "   CollectionTrend     Price-1     Price-2     Price-3     Price-4  Price-5  \\\n",
       "0               -1           0           0           0           0        0   \n",
       "1               -1  1000000000           0           0           0        0   \n",
       "2               -1  1000000000  1000000000           0           0        0   \n",
       "3               -1  1230000000  1000000000  1000000000           0        0   \n",
       "4               -1  1200000000  1230000000  1000000000  1000000000        0   \n",
       "\n",
       "   Price-6  Price-7  Price-8  Price-9  Price-10  \n",
       "0        0        0        0        0         0  \n",
       "1        0        0        0        0         0  \n",
       "2        0        0        0        0         0  \n",
       "3        0        0        0        0         0  \n",
       "4        0        0        0        0         0  "
      ]
     },
     "execution_count": 5,
     "metadata": {},
     "output_type": "execute_result"
    }
   ],
   "source": [
    "numeric_feature_names = ['CollectionTrend', 'Price-1',  'Price-2', 'Price-3','Price-4','Price-5','Price-6','Price-7','Price-8','Price-9','Price-10']\n",
    "numeric_features = df[numeric_feature_names]\n",
    "numeric_features.head()"
   ]
  },
  {
   "cell_type": "code",
   "execution_count": 6,
   "metadata": {},
   "outputs": [
    {
     "name": "stderr",
     "output_type": "stream",
     "text": [
      "2022-08-03 11:33:19.299438: I tensorflow/stream_executor/cuda/cuda_gpu_executor.cc:961] could not open file to read NUMA node: /sys/bus/pci/devices/0000:01:00.0/numa_node\n",
      "Your kernel may have been built without NUMA support.\n",
      "2022-08-03 11:33:19.333743: I tensorflow/stream_executor/cuda/cuda_gpu_executor.cc:961] could not open file to read NUMA node: /sys/bus/pci/devices/0000:01:00.0/numa_node\n",
      "Your kernel may have been built without NUMA support.\n",
      "2022-08-03 11:33:19.334210: I tensorflow/stream_executor/cuda/cuda_gpu_executor.cc:961] could not open file to read NUMA node: /sys/bus/pci/devices/0000:01:00.0/numa_node\n",
      "Your kernel may have been built without NUMA support.\n",
      "2022-08-03 11:33:19.335880: I tensorflow/core/platform/cpu_feature_guard.cc:193] This TensorFlow binary is optimized with oneAPI Deep Neural Network Library (oneDNN) to use the following CPU instructions in performance-critical operations:  AVX2 FMA\n",
      "To enable them in other operations, rebuild TensorFlow with the appropriate compiler flags.\n",
      "2022-08-03 11:33:19.338087: I tensorflow/stream_executor/cuda/cuda_gpu_executor.cc:961] could not open file to read NUMA node: /sys/bus/pci/devices/0000:01:00.0/numa_node\n",
      "Your kernel may have been built without NUMA support.\n",
      "2022-08-03 11:33:19.338626: I tensorflow/stream_executor/cuda/cuda_gpu_executor.cc:961] could not open file to read NUMA node: /sys/bus/pci/devices/0000:01:00.0/numa_node\n",
      "Your kernel may have been built without NUMA support.\n",
      "2022-08-03 11:33:19.338971: I tensorflow/stream_executor/cuda/cuda_gpu_executor.cc:961] could not open file to read NUMA node: /sys/bus/pci/devices/0000:01:00.0/numa_node\n",
      "Your kernel may have been built without NUMA support.\n",
      "2022-08-03 11:33:20.147823: I tensorflow/stream_executor/cuda/cuda_gpu_executor.cc:961] could not open file to read NUMA node: /sys/bus/pci/devices/0000:01:00.0/numa_node\n",
      "Your kernel may have been built without NUMA support.\n",
      "2022-08-03 11:33:20.148207: I tensorflow/stream_executor/cuda/cuda_gpu_executor.cc:961] could not open file to read NUMA node: /sys/bus/pci/devices/0000:01:00.0/numa_node\n",
      "Your kernel may have been built without NUMA support.\n",
      "2022-08-03 11:33:20.148218: I tensorflow/core/common_runtime/gpu/gpu_device.cc:1616] Could not identify NUMA node of platform GPU id 0, defaulting to 0.  Your kernel may not have been built with NUMA support.\n",
      "2022-08-03 11:33:20.148601: I tensorflow/stream_executor/cuda/cuda_gpu_executor.cc:961] could not open file to read NUMA node: /sys/bus/pci/devices/0000:01:00.0/numa_node\n",
      "Your kernel may have been built without NUMA support.\n",
      "2022-08-03 11:33:20.148662: I tensorflow/core/common_runtime/gpu/gpu_device.cc:1532] Created device /job:localhost/replica:0/task:0/device:GPU:0 with 5440 MB memory:  -> device: 0, name: NVIDIA GeForce RTX 3070 Laptop GPU, pci bus id: 0000:01:00.0, compute capability: 8.6\n",
      "2022-08-03 11:33:20.262606: W tensorflow/core/framework/cpu_allocator_impl.cc:82] Allocation of 458141376 exceeds 10% of free system memory.\n",
      "2022-08-03 11:33:20.612651: W tensorflow/core/framework/cpu_allocator_impl.cc:82] Allocation of 458141376 exceeds 10% of free system memory.\n"
     ]
    },
    {
     "data": {
      "text/plain": [
       "<tf.Tensor: shape=(5206152, 11), dtype=int64, numpy=\n",
       "array([[        -1,          0,          0, ...,          0,          0,\n",
       "                 0],\n",
       "       [        -1, 1000000000,          0, ...,          0,          0,\n",
       "                 0],\n",
       "       [        -1, 1000000000, 1000000000, ...,          0,          0,\n",
       "                 0],\n",
       "       ...,\n",
       "       [         0, 2300000000, 2500000000, ..., 3000000000, 3000000000,\n",
       "        3990000000],\n",
       "       [         0, 2300000000, 2300000000, ..., 3000000000, 3000000000,\n",
       "        3000000000],\n",
       "       [         0, 2300000000, 2300000000, ..., 2990000000, 3000000000,\n",
       "        3000000000]])>"
      ]
     },
     "execution_count": 6,
     "metadata": {},
     "output_type": "execute_result"
    }
   ],
   "source": [
    "tf.convert_to_tensor(numeric_features)"
   ]
  },
  {
   "cell_type": "code",
   "execution_count": 7,
   "metadata": {},
   "outputs": [
    {
     "name": "stderr",
     "output_type": "stream",
     "text": [
      "2022-08-03 11:33:20.963364: W tensorflow/core/framework/cpu_allocator_impl.cc:82] Allocation of 458141376 exceeds 10% of free system memory.\n",
      "2022-08-03 11:33:21.203597: W tensorflow/core/framework/cpu_allocator_impl.cc:82] Allocation of 458141376 exceeds 10% of free system memory.\n"
     ]
    }
   ],
   "source": [
    "normalizer = tf.keras.layers.Normalization(axis=-1)\n",
    "normalizer.adapt(numeric_features)"
   ]
  },
  {
   "cell_type": "code",
   "execution_count": 8,
   "metadata": {},
   "outputs": [
    {
     "data": {
      "text/plain": [
       "<tf.Tensor: shape=(3, 11), dtype=float32, numpy=\n",
       "array([[-0.7173765 , -0.2438479 , -0.24384217, -0.24382915, -0.2438179 ,\n",
       "        -0.24380066, -0.24378408, -0.24376582, -0.24374713, -0.24373311,\n",
       "        -0.24371679],\n",
       "       [-0.7173765 , -0.15271129, -0.24384217, -0.24382915, -0.2438179 ,\n",
       "        -0.24380066, -0.24378408, -0.24376582, -0.24374713, -0.24373311,\n",
       "        -0.24371679],\n",
       "       [-0.7173765 , -0.15271129, -0.15269123, -0.24382915, -0.2438179 ,\n",
       "        -0.24380066, -0.24378408, -0.24376582, -0.24374713, -0.24373311,\n",
       "        -0.24371679]], dtype=float32)>"
      ]
     },
     "execution_count": 8,
     "metadata": {},
     "output_type": "execute_result"
    }
   ],
   "source": [
    "normalizer(numeric_features.iloc[:3])"
   ]
  },
  {
   "cell_type": "code",
   "execution_count": 9,
   "metadata": {},
   "outputs": [],
   "source": [
    "def get_basic_model():\n",
    "  model = tf.keras.Sequential([\n",
    "    normalizer,\n",
    "    tf.keras.layers.Dense(100, activation='relu'),\n",
    "    tf.keras.layers.Dense(100, activation='relu'),\n",
    "    tf.keras.layers.Dense(1)\n",
    "  ])\n",
    "\n",
    "  model.compile(optimizer='adam',\n",
    "                loss=tf.keras.losses.BinaryCrossentropy(from_logits=True),\n",
    "                metrics=['accuracy'])\n",
    "  return model"
   ]
  },
  {
   "cell_type": "code",
   "execution_count": 10,
   "metadata": {},
   "outputs": [
    {
     "name": "stderr",
     "output_type": "stream",
     "text": [
      "2022-08-03 11:37:27.859536: W tensorflow/core/framework/cpu_allocator_impl.cc:82] Allocation of 458141376 exceeds 10% of free system memory.\n"
     ]
    },
    {
     "name": "stdout",
     "output_type": "stream",
     "text": [
      "(<tf.Tensor: shape=(11,), dtype=int64, numpy=array([-1,  0,  0,  0,  0,  0,  0,  0,  0,  0,  0])>, <tf.Tensor: shape=(), dtype=int64, numpy=1000000000>)\n",
      "(<tf.Tensor: shape=(11,), dtype=int64, numpy=\n",
      "array([        -1, 1000000000,          0,          0,          0,\n",
      "                0,          0,          0,          0,          0,\n",
      "                0])>, <tf.Tensor: shape=(), dtype=int64, numpy=1000000000>)\n",
      "(<tf.Tensor: shape=(11,), dtype=int64, numpy=\n",
      "array([        -1, 1000000000, 1000000000,          0,          0,\n",
      "                0,          0,          0,          0,          0,\n",
      "                0])>, <tf.Tensor: shape=(), dtype=int64, numpy=1230000000>)\n"
     ]
    }
   ],
   "source": [
    "numeric_dataset = tf.data.Dataset.from_tensor_slices((numeric_features, target))\n",
    "\n",
    "for row in numeric_dataset.take(3):\n",
    "  print(row)"
   ]
  },
  {
   "cell_type": "code",
   "execution_count": 11,
   "metadata": {},
   "outputs": [
    {
     "name": "stdout",
     "output_type": "stream",
     "text": [
      "Epoch 1/2\n",
      "    39/162693 [..............................] - ETA: 11:07 - loss: -35948376064.0000 - accuracy: 0.0000e+00"
     ]
    },
    {
     "name": "stderr",
     "output_type": "stream",
     "text": [
      "2022-08-03 11:37:30.759340: I tensorflow/stream_executor/cuda/cuda_blas.cc:1786] TensorFloat-32 will be used for the matrix multiplication. This will only be logged once.\n"
     ]
    },
    {
     "name": "stdout",
     "output_type": "stream",
     "text": [
      "162693/162693 [==============================] - 708s 4ms/step - loss: -15176646959122350080.0000 - accuracy: 1.2120e-04\n",
      "Epoch 2/2\n",
      "162693/162693 [==============================] - 717s 4ms/step - loss: -203701153661315973120.0000 - accuracy: 1.2120e-04\n"
     ]
    },
    {
     "data": {
      "text/plain": [
       "<keras.callbacks.History at 0x7f2b79d961f0>"
      ]
     },
     "execution_count": 11,
     "metadata": {},
     "output_type": "execute_result"
    }
   ],
   "source": [
    "numeric_batches = numeric_dataset.shuffle(6000000).batch(BATCH_SIZE)\n",
    "\n",
    "\n",
    "model = get_basic_model()\n",
    "model.fit(numeric_features, target, epochs=2)\n",
    "#model.fit(numeric_features, target, epochs=15, batch_size=BATCH_SIZE)\n"
   ]
  }
 ],
 "metadata": {
  "kernelspec": {
   "display_name": "Python 3.8.10 64-bit",
   "language": "python",
   "name": "python3"
  },
  "language_info": {
   "codemirror_mode": {
    "name": "ipython",
    "version": 3
   },
   "file_extension": ".py",
   "mimetype": "text/x-python",
   "name": "python",
   "nbconvert_exporter": "python",
   "pygments_lexer": "ipython3",
   "version": "3.8.10"
  },
  "orig_nbformat": 4,
  "vscode": {
   "interpreter": {
    "hash": "916dbcbb3f70747c44a77c7bcd40155683ae19c65e1c03b4aa3499c5328201f1"
   }
  }
 },
 "nbformat": 4,
 "nbformat_minor": 2
}
